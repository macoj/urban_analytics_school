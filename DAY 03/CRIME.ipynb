{
 "cells": [
  {
   "cell_type": "code",
   "execution_count": null,
   "id": "0cc8192a",
   "metadata": {},
   "outputs": [],
   "source": [
    "# %config InlineBackend.figure_format = 'retina'"
   ]
  },
  {
   "cell_type": "code",
   "execution_count": null,
   "id": "d230ca0f",
   "metadata": {},
   "outputs": [],
   "source": [
    "import pandas as pd\n",
    "import rtree \n",
    "import geopandas\n",
    "import numpy as np\n",
    "import shapely"
   ]
  },
  {
   "cell_type": "code",
   "execution_count": null,
   "id": "9d85c3bb",
   "metadata": {},
   "outputs": [],
   "source": [
    "import matplotlib.pyplot as plt"
   ]
  },
  {
   "cell_type": "markdown",
   "id": "ec400e2b",
   "metadata": {},
   "source": [
    "# Pre-processing data"
   ]
  },
  {
   "cell_type": "markdown",
   "id": "0d772b37",
   "metadata": {},
   "source": [
    "We will use data from [Chicago, US](https://data.cityofchicago.org/Public-Safety/Crimes-2001-to-Present/ijzp-q8t2/data). It is already on this directory:"
   ]
  },
  {
   "cell_type": "code",
   "execution_count": null,
   "id": "fed8d665",
   "metadata": {},
   "outputs": [],
   "source": [
    "df = pd.read_csv(\"./chicago.zip\")"
   ]
  },
  {
   "cell_type": "code",
   "execution_count": null,
   "id": "8fff8520",
   "metadata": {},
   "outputs": [],
   "source": [
    "df.head()"
   ]
  },
  {
   "cell_type": "markdown",
   "id": "a7bf7e77",
   "metadata": {},
   "source": [
    "We are only interested in specific columns:"
   ]
  },
  {
   "cell_type": "code",
   "execution_count": null,
   "id": "7e284b86",
   "metadata": {},
   "outputs": [],
   "source": [
    "df = df[[\"Date\", \"Primary Type\", \"Latitude\", \"Longitude\"]]"
   ]
  },
  {
   "cell_type": "markdown",
   "id": "45cb1f8b",
   "metadata": {},
   "source": [
    "Let's rename these columns to more convenient names:"
   ]
  },
  {
   "cell_type": "code",
   "execution_count": null,
   "id": "2a7b2299",
   "metadata": {},
   "outputs": [],
   "source": [
    "df.columns = [\"time\", \"crime\", \"lat\", \"lon\"]"
   ]
  },
  {
   "cell_type": "code",
   "execution_count": null,
   "id": "cd96383a",
   "metadata": {},
   "outputs": [],
   "source": [
    "df.head()"
   ]
  },
  {
   "cell_type": "markdown",
   "id": "8833b69c",
   "metadata": {},
   "source": [
    "Note that thera are some `NaN` values. Let's remove them:"
   ]
  },
  {
   "cell_type": "code",
   "execution_count": null,
   "id": "e45582f1",
   "metadata": {},
   "outputs": [],
   "source": [
    "df = df.dropna().copy()"
   ]
  },
  {
   "cell_type": "code",
   "execution_count": null,
   "id": "a54a144a",
   "metadata": {},
   "outputs": [],
   "source": [
    "df.head()"
   ]
  },
  {
   "cell_type": "markdown",
   "id": "547602ae",
   "metadata": {},
   "source": [
    "We want to be able to play with date/time here. Let's transform the column `time` into something more useful:"
   ]
  },
  {
   "cell_type": "code",
   "execution_count": null,
   "id": "d71b2ec5",
   "metadata": {},
   "outputs": [],
   "source": [
    "df.time = pd.to_datetime(df.time)"
   ]
  },
  {
   "cell_type": "code",
   "execution_count": null,
   "id": "3256ac88",
   "metadata": {},
   "outputs": [],
   "source": [
    "df.head()"
   ]
  },
  {
   "cell_type": "markdown",
   "id": "ea83f791",
   "metadata": {},
   "source": [
    "# Crime concentration analysis"
   ]
  },
  {
   "cell_type": "markdown",
   "id": "678300fc",
   "metadata": {},
   "source": [
    "We want only data point within Chicago. "
   ]
  },
  {
   "cell_type": "code",
   "execution_count": null,
   "id": "5336a140",
   "metadata": {},
   "outputs": [],
   "source": [
    "# based on https://boundingbox.klokantech.com/\n",
    "chicago_lon_min, chicago_lon_max = -87.940101,-87.523984\n",
    "chicago_lat_min, chicago_lat_max = 41.643919, 42.023022"
   ]
  },
  {
   "cell_type": "code",
   "execution_count": null,
   "id": "18c8cc6b",
   "metadata": {},
   "outputs": [],
   "source": [
    "df = df[(df.lat > chicago_lat_min) & \n",
    "        (df.lat < chicago_lat_max) & \n",
    "        (df.lon > chicago_lon_min) & \n",
    "        (df.lon < chicago_lon_max)]"
   ]
  },
  {
   "cell_type": "code",
   "execution_count": null,
   "id": "11cc740b",
   "metadata": {},
   "outputs": [],
   "source": [
    "plt.figure(figsize=(10, 9))\n",
    "plt.plot(*zip(*(df[[\"lon\", \"lat\"]].values)), linestyle=\"\", marker=\".\", markersize=0.5)\n",
    "plt.gca().axis('off');"
   ]
  },
  {
   "cell_type": "markdown",
   "id": "f8912fb2",
   "metadata": {},
   "source": [
    "That looks legit."
   ]
  },
  {
   "cell_type": "markdown",
   "id": "7ed4d611",
   "metadata": {},
   "source": [
    "## Using `geopandas` to create a grid"
   ]
  },
  {
   "cell_type": "markdown",
   "id": "aaaf3689",
   "metadata": {},
   "source": [
    "`geopandas` will help us a lot today! First, we need to create a `GeoDataFrame` using our `DataFrame`: "
   ]
  },
  {
   "cell_type": "code",
   "execution_count": null,
   "id": "1a8244b5",
   "metadata": {},
   "outputs": [],
   "source": [
    "gdf = geopandas.GeoDataFrame(df, geometry=geopandas.points_from_xy(df.lon, df.lat))"
   ]
  },
  {
   "cell_type": "markdown",
   "id": "6321b268",
   "metadata": {},
   "source": [
    "We could also include the Coordinate Reference System of the data set; we will skip this here (but the interested coder can take a look at the [documentation](https://geopandas.org/docs/reference/api/geopandas.GeoDataFrame.html)). \n",
    "\n",
    "Note that `geopandas.GeoDataFrame` converts the latitude/longitude coordinates into a `POINT` geometry:"
   ]
  },
  {
   "cell_type": "code",
   "execution_count": null,
   "id": "1f617674",
   "metadata": {},
   "outputs": [],
   "source": [
    "gdf.head()"
   ]
  },
  {
   "cell_type": "markdown",
   "id": "bef04516",
   "metadata": {},
   "source": [
    "### Creating a grid"
   ]
  },
  {
   "cell_type": "markdown",
   "id": "ea2e6771",
   "metadata": {},
   "source": [
    "We want to create a grid in that all data points are included. Thus, we use the boundaries of our data to define the size of the grid."
   ]
  },
  {
   "cell_type": "code",
   "execution_count": null,
   "id": "2c5a5c34",
   "metadata": {},
   "outputs": [],
   "source": [
    "lat_min, lat_max = df.lat.min(), df.lat.max()\n",
    "\n",
    "lon_min, lon_max = df.lon.min(), df.lon.max()"
   ]
  },
  {
   "cell_type": "code",
   "execution_count": null,
   "id": "5524116a",
   "metadata": {},
   "outputs": [],
   "source": [
    "lon_min, lat_min, lon_max, lat_max"
   ]
  },
  {
   "cell_type": "markdown",
   "id": "8657b5b5",
   "metadata": {},
   "source": [
    "Next, we should create the cells of this grid: "
   ]
  },
  {
   "cell_type": "code",
   "execution_count": null,
   "id": "487e6dc4",
   "metadata": {},
   "outputs": [],
   "source": [
    "side_size = 15  # number of cells \n",
    "cell_size = (lat_max-lat_min)/side_size"
   ]
  },
  {
   "cell_type": "code",
   "execution_count": null,
   "id": "4c729e92",
   "metadata": {},
   "outputs": [],
   "source": [
    "grid = []"
   ]
  },
  {
   "cell_type": "code",
   "execution_count": null,
   "id": "361f1f0d",
   "metadata": {},
   "outputs": [],
   "source": [
    "for cell_x in np.arange(lon_min, lon_max, cell_size):\n",
    "    for cell_y in np.arange(lat_min, lat_max, cell_size):\n",
    "        cell = shapely.geometry.box(cell_x, cell_y, \n",
    "                                    cell_x + cell_size, \n",
    "                                    cell_y + cell_size)\n",
    "        grid.append(cell)"
   ]
  },
  {
   "cell_type": "code",
   "execution_count": null,
   "id": "38bb4a0a",
   "metadata": {},
   "outputs": [],
   "source": [
    "gdf_grid = geopandas.GeoDataFrame(grid, columns=['geometry'])"
   ]
  },
  {
   "cell_type": "code",
   "execution_count": null,
   "id": "eb8b5ba7",
   "metadata": {},
   "outputs": [],
   "source": [
    "ax = gdf.plot(markersize=1, figsize=(15, 12), cmap='inferno_r')\n",
    "plt.autoscale(False)\n",
    "gdf_grid.plot(ax=ax, facecolor=\"none\", edgecolor='pink', linewidth=2, alpha=0.4)\n",
    "ax.axis(\"off\");"
   ]
  },
  {
   "cell_type": "markdown",
   "id": "e2f0b922",
   "metadata": {},
   "source": [
    "### Counting the number of points in each cell"
   ]
  },
  {
   "cell_type": "markdown",
   "id": "f9077bad",
   "metadata": {},
   "source": [
    "What we want now is to count the number of points in each cell. \n",
    "\n",
    "A quick way to do that is to just perfom a `join` [operation](https://en.wikipedia.org/wiki/Relational_algebra#Joins_and_join-like_operators)! \n",
    "\n",
    "With `geopandas`, this operation is trivial (for the interested reader: [documentation](https://geopandas.org/docs/reference/api/geopandas.sjoin.html)):"
   ]
  },
  {
   "cell_type": "code",
   "execution_count": null,
   "id": "41101441",
   "metadata": {},
   "outputs": [],
   "source": [
    "gdf_joined = geopandas.sjoin(gdf, gdf_grid, how='left', op='within')"
   ]
  },
  {
   "cell_type": "code",
   "execution_count": null,
   "id": "58f00f29",
   "metadata": {},
   "outputs": [],
   "source": [
    "gdf_joined.head()"
   ]
  },
  {
   "cell_type": "markdown",
   "id": "969f5def",
   "metadata": {},
   "source": [
    "\n",
    "<div class=\"alert alert-info\">\n",
    "WHAT DOES THIS MEAN?\n",
    "<img width=300 src=https://www.meme-arsenal.com/memes/9842c3db6d1639e09dbe3d55466d76fe.jpg>\n",
    "\n",
    "</div>"
   ]
  },
  {
   "cell_type": "markdown",
   "id": "a955905c",
   "metadata": {},
   "source": [
    "To count, we dissolve (i.e., we `groupby` then aggregate our the groups via an aggregate function)."
   ]
  },
  {
   "cell_type": "code",
   "execution_count": null,
   "id": "71bf1f52",
   "metadata": {},
   "outputs": [],
   "source": [
    "dissolve = gdf_joined.dissolve(by=\"index_right\", aggfunc=\"count\")"
   ]
  },
  {
   "cell_type": "code",
   "execution_count": null,
   "id": "f12c5396",
   "metadata": {},
   "outputs": [],
   "source": [
    "dissolve[\"crime\"]"
   ]
  },
  {
   "cell_type": "code",
   "execution_count": null,
   "id": "93996291",
   "metadata": {},
   "outputs": [],
   "source": [
    "gdf_grid.loc[dissolve.index, 'count'] = dissolve['crime'].values"
   ]
  },
  {
   "cell_type": "code",
   "execution_count": null,
   "id": "bada55b9",
   "metadata": {},
   "outputs": [],
   "source": [
    "gdf_grid"
   ]
  },
  {
   "cell_type": "markdown",
   "id": "fdaa414a",
   "metadata": {},
   "source": [
    "<div class=\"alert alert-info\">\n",
    "WHY SO MANY NaNs? \n",
    "<img width=300 src=https://www.meme-arsenal.com/memes/9842c3db6d1639e09dbe3d55466d76fe.jpg>\n",
    "\n",
    "</div>"
   ]
  },
  {
   "cell_type": "code",
   "execution_count": null,
   "id": "45b650e7",
   "metadata": {},
   "outputs": [],
   "source": [
    "gdf_grid.plot(column='count', figsize=(15, 12), cmap='inferno_r', edgecolor=\"white\")\n",
    "plt.autoscale(False)\n",
    "plt.gca().axis('off');"
   ]
  },
  {
   "cell_type": "markdown",
   "id": "4b32fe70",
   "metadata": {},
   "source": [
    "# Exercise"
   ]
  },
  {
   "cell_type": "markdown",
   "id": "f8b7d0f7",
   "metadata": {},
   "source": [
    "<div class=\"alert alert-success\">\n",
    "    <b>1)</b> Plot the Lorenz curves of crime for different types of crime.\n",
    "</div>\n",
    "\n",
    "Hint: The function `cumsum` from `numpy` will help you to calcualte the cumulative sum of a list."
   ]
  },
  {
   "cell_type": "code",
   "execution_count": null,
   "id": "f2c3e8af",
   "metadata": {},
   "outputs": [],
   "source": []
  },
  {
   "cell_type": "code",
   "execution_count": null,
   "id": "ae894123",
   "metadata": {},
   "outputs": [],
   "source": []
  },
  {
   "cell_type": "markdown",
   "id": "809d825a",
   "metadata": {},
   "source": [
    "<div class=\"alert alert-success\">\n",
    "    <b>1.b)</b> What is the impact of grid size on the Lorenz curves?\n",
    "</div>"
   ]
  },
  {
   "cell_type": "code",
   "execution_count": null,
   "id": "964e2fac",
   "metadata": {},
   "outputs": [],
   "source": []
  },
  {
   "cell_type": "code",
   "execution_count": null,
   "id": "0651e0be",
   "metadata": {},
   "outputs": [],
   "source": []
  },
  {
   "cell_type": "markdown",
   "id": "5df82172",
   "metadata": {},
   "source": [
    "<div class=\"alert alert-success\">\n",
    "    <b>2)</b> Plot a time series of crime in a specific region.\n",
    "</div>\n",
    "\n",
    "Hint: Note that you can conveniently use the `groupby` function on the `gdf_joined` object (but you might be an extra variable)."
   ]
  },
  {
   "cell_type": "code",
   "execution_count": null,
   "id": "3cab64e3",
   "metadata": {},
   "outputs": [],
   "source": []
  },
  {
   "cell_type": "code",
   "execution_count": null,
   "id": "b852fc55",
   "metadata": {},
   "outputs": [],
   "source": []
  }
 ],
 "metadata": {
  "kernelspec": {
   "display_name": "Python 3",
   "language": "python",
   "name": "python3"
  },
  "language_info": {
   "codemirror_mode": {
    "name": "ipython",
    "version": 3
   },
   "file_extension": ".py",
   "mimetype": "text/x-python",
   "name": "python",
   "nbconvert_exporter": "python",
   "pygments_lexer": "ipython3",
   "version": "3.9.6"
  }
 },
 "nbformat": 4,
 "nbformat_minor": 5
}
